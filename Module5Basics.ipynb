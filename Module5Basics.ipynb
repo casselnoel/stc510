{
  "nbformat": 4,
  "nbformat_minor": 0,
  "metadata": {
    "colab": {
      "name": "Module5Basics.ipynb",
      "provenance": [],
      "authorship_tag": "ABX9TyNE1xjuKYaSN5BAus9f6yJD",
      "include_colab_link": true
    },
    "kernelspec": {
      "name": "python3",
      "display_name": "Python 3"
    }
  },
  "cells": [
    {
      "cell_type": "markdown",
      "metadata": {
        "id": "view-in-github",
        "colab_type": "text"
      },
      "source": [
        "<a href=\"https://colab.research.google.com/github/casselnoel/stc510/blob/main/Module5Basics.ipynb\" target=\"_parent\"><img src=\"https://colab.research.google.com/assets/colab-badge.svg\" alt=\"Open In Colab\"/></a>"
      ]
    },
    {
      "cell_type": "code",
      "metadata": {
        "id": "jVYCUmuO4U_Z",
        "colab": {
          "base_uri": "https://localhost:8080/"
        },
        "outputId": "0c8b9656-3918-41fb-cafc-385330239c87"
      },
      "source": [
        "import nltk\n",
        "nltk.download('stopwords')\n",
        "from nltk.tokenize import word_tokenize\n",
        "from nltk.corpus import stopwords\n",
        "from nltk.stem import WordNetLemmatizer\n",
        "from bs4 import BeautifulSoup\n",
        "from sklearn.feature_extraction.text import TfidfVectorizer \n",
        "from sklearn.model_selection import train_test_split\n",
        "from sklearn.naive_bayes import MultinomialNB\n",
        "from sklearn.metrics import accuracy_score \n",
        "from nltk.stem.porter import PorterStemmer\n",
        "import pandas as pd\n",
        "import numpy as np\n",
        "import os\n",
        "import re\n",
        "from string import punctuation"
      ],
      "execution_count": 1,
      "outputs": [
        {
          "output_type": "stream",
          "text": [
            "[nltk_data] Downloading package stopwords to /root/nltk_data...\n",
            "[nltk_data]   Package stopwords is already up-to-date!\n"
          ],
          "name": "stdout"
        }
      ]
    },
    {
      "cell_type": "code",
      "metadata": {
        "id": "hI1ZGJIe4ee0"
      },
      "source": [
        "jeopardy = pd.read_json('jeopardy.json') #https://www.dropbox.com/s/x7z8bk4vgowohp9/jeopardy.json?dl=0"
      ],
      "execution_count": 2,
      "outputs": []
    },
    {
      "cell_type": "code",
      "metadata": {
        "colab": {
          "base_uri": "https://localhost:8080/",
          "height": 289
        },
        "id": "yXi217PIJ6NZ",
        "outputId": "648977be-a9e1-437c-c2c9-4d0e0ac9dd66"
      },
      "source": [
        "jeopardy.head()"
      ],
      "execution_count": 3,
      "outputs": [
        {
          "output_type": "execute_result",
          "data": {
            "text/html": [
              "<div>\n",
              "<style scoped>\n",
              "    .dataframe tbody tr th:only-of-type {\n",
              "        vertical-align: middle;\n",
              "    }\n",
              "\n",
              "    .dataframe tbody tr th {\n",
              "        vertical-align: top;\n",
              "    }\n",
              "\n",
              "    .dataframe thead th {\n",
              "        text-align: right;\n",
              "    }\n",
              "</style>\n",
              "<table border=\"1\" class=\"dataframe\">\n",
              "  <thead>\n",
              "    <tr style=\"text-align: right;\">\n",
              "      <th></th>\n",
              "      <th>category</th>\n",
              "      <th>air_date</th>\n",
              "      <th>question</th>\n",
              "      <th>value</th>\n",
              "      <th>answer</th>\n",
              "      <th>round</th>\n",
              "      <th>show_number</th>\n",
              "    </tr>\n",
              "  </thead>\n",
              "  <tbody>\n",
              "    <tr>\n",
              "      <th>0</th>\n",
              "      <td>HISTORY</td>\n",
              "      <td>2004-12-31</td>\n",
              "      <td>'For the last 8 years of his life, Galileo was...</td>\n",
              "      <td>$200</td>\n",
              "      <td>Copernicus</td>\n",
              "      <td>Jeopardy!</td>\n",
              "      <td>4680</td>\n",
              "    </tr>\n",
              "    <tr>\n",
              "      <th>1</th>\n",
              "      <td>ESPN's TOP 10 ALL-TIME ATHLETES</td>\n",
              "      <td>2004-12-31</td>\n",
              "      <td>'No. 2: 1912 Olympian; football star at Carlis...</td>\n",
              "      <td>$200</td>\n",
              "      <td>Jim Thorpe</td>\n",
              "      <td>Jeopardy!</td>\n",
              "      <td>4680</td>\n",
              "    </tr>\n",
              "    <tr>\n",
              "      <th>2</th>\n",
              "      <td>EVERYBODY TALKS ABOUT IT...</td>\n",
              "      <td>2004-12-31</td>\n",
              "      <td>'The city of Yuma in this state has a record a...</td>\n",
              "      <td>$200</td>\n",
              "      <td>Arizona</td>\n",
              "      <td>Jeopardy!</td>\n",
              "      <td>4680</td>\n",
              "    </tr>\n",
              "    <tr>\n",
              "      <th>3</th>\n",
              "      <td>THE COMPANY LINE</td>\n",
              "      <td>2004-12-31</td>\n",
              "      <td>'In 1963, live on \"The Art Linkletter Show\", t...</td>\n",
              "      <td>$200</td>\n",
              "      <td>McDonald\\'s</td>\n",
              "      <td>Jeopardy!</td>\n",
              "      <td>4680</td>\n",
              "    </tr>\n",
              "    <tr>\n",
              "      <th>4</th>\n",
              "      <td>EPITAPHS &amp; TRIBUTES</td>\n",
              "      <td>2004-12-31</td>\n",
              "      <td>'Signer of the Dec. of Indep., framer of the C...</td>\n",
              "      <td>$200</td>\n",
              "      <td>John Adams</td>\n",
              "      <td>Jeopardy!</td>\n",
              "      <td>4680</td>\n",
              "    </tr>\n",
              "  </tbody>\n",
              "</table>\n",
              "</div>"
            ],
            "text/plain": [
              "                          category    air_date  ...      round show_number\n",
              "0                          HISTORY  2004-12-31  ...  Jeopardy!        4680\n",
              "1  ESPN's TOP 10 ALL-TIME ATHLETES  2004-12-31  ...  Jeopardy!        4680\n",
              "2      EVERYBODY TALKS ABOUT IT...  2004-12-31  ...  Jeopardy!        4680\n",
              "3                 THE COMPANY LINE  2004-12-31  ...  Jeopardy!        4680\n",
              "4              EPITAPHS & TRIBUTES  2004-12-31  ...  Jeopardy!        4680\n",
              "\n",
              "[5 rows x 7 columns]"
            ]
          },
          "metadata": {
            "tags": []
          },
          "execution_count": 3
        }
      ]
    },
    {
      "cell_type": "code",
      "metadata": {
        "colab": {
          "base_uri": "https://localhost:8080/"
        },
        "id": "1zHepty-KmXs",
        "outputId": "d0a7faaf-dc15-45ee-e6b8-c05c11663685"
      },
      "source": [
        "jeopardy.info()"
      ],
      "execution_count": 4,
      "outputs": [
        {
          "output_type": "stream",
          "text": [
            "<class 'pandas.core.frame.DataFrame'>\n",
            "RangeIndex: 216930 entries, 0 to 216929\n",
            "Data columns (total 7 columns):\n",
            " #   Column       Non-Null Count   Dtype \n",
            "---  ------       --------------   ----- \n",
            " 0   category     216930 non-null  object\n",
            " 1   air_date     216930 non-null  object\n",
            " 2   question     216930 non-null  object\n",
            " 3   value        213296 non-null  object\n",
            " 4   answer       216930 non-null  object\n",
            " 5   round        216930 non-null  object\n",
            " 6   show_number  216930 non-null  int64 \n",
            "dtypes: int64(1), object(6)\n",
            "memory usage: 11.6+ MB\n"
          ],
          "name": "stdout"
        }
      ]
    },
    {
      "cell_type": "code",
      "metadata": {
        "colab": {
          "base_uri": "https://localhost:8080/"
        },
        "id": "p4kbc9W4LIuH",
        "outputId": "c41119f5-a8ce-4cb1-98fb-3027e6dd5e45"
      },
      "source": [
        "jeopardy.value.value_counts()"
      ],
      "execution_count": 5,
      "outputs": [
        {
          "output_type": "execute_result",
          "data": {
            "text/plain": [
              "$400      42244\n",
              "$800      31860\n",
              "$200      30455\n",
              "$600      20377\n",
              "$1000     19539\n",
              "          ...  \n",
              "$20           1\n",
              "$2,990        1\n",
              "$5,700        1\n",
              "$50           1\n",
              "$9,800        1\n",
              "Name: value, Length: 149, dtype: int64"
            ]
          },
          "metadata": {
            "tags": []
          },
          "execution_count": 5
        }
      ]
    },
    {
      "cell_type": "code",
      "metadata": {
        "colab": {
          "base_uri": "https://localhost:8080/"
        },
        "id": "FyTovMyqPfDm",
        "outputId": "8ca0f899-79fb-46c8-a783-289fc8547b6e"
      },
      "source": [
        "len(jeopardy)"
      ],
      "execution_count": 6,
      "outputs": [
        {
          "output_type": "execute_result",
          "data": {
            "text/plain": [
              "216930"
            ]
          },
          "metadata": {
            "tags": []
          },
          "execution_count": 6
        }
      ]
    },
    {
      "cell_type": "code",
      "metadata": {
        "id": "tBEYaMaGPmls"
      },
      "source": [
        "questions = jeopardy['question']"
      ],
      "execution_count": 7,
      "outputs": []
    },
    {
      "cell_type": "code",
      "metadata": {
        "colab": {
          "base_uri": "https://localhost:8080/"
        },
        "id": "aRS0tlV7V2xy",
        "outputId": "94bef126-205c-4452-d63c-806996ca38c4"
      },
      "source": [
        "questions.head()"
      ],
      "execution_count": 8,
      "outputs": [
        {
          "output_type": "execute_result",
          "data": {
            "text/plain": [
              "0    'For the last 8 years of his life, Galileo was...\n",
              "1    'No. 2: 1912 Olympian; football star at Carlis...\n",
              "2    'The city of Yuma in this state has a record a...\n",
              "3    'In 1963, live on \"The Art Linkletter Show\", t...\n",
              "4    'Signer of the Dec. of Indep., framer of the C...\n",
              "Name: question, dtype: object"
            ]
          },
          "metadata": {
            "tags": []
          },
          "execution_count": 8
        }
      ]
    },
    {
      "cell_type": "code",
      "metadata": {
        "id": "XaStwe6tQbEh"
      },
      "source": [
        "highvalue = jeopardy[jeopardy.value=='$2000']"
      ],
      "execution_count": 12,
      "outputs": []
    },
    {
      "cell_type": "code",
      "metadata": {
        "colab": {
          "base_uri": "https://localhost:8080/",
          "height": 289
        },
        "id": "5ZrFvHfJV-Di",
        "outputId": "e6f06016-d66a-4fe2-a475-bdf9087210ec"
      },
      "source": [
        "highvalue.head()"
      ],
      "execution_count": 13,
      "outputs": [
        {
          "output_type": "execute_result",
          "data": {
            "text/html": [
              "<div>\n",
              "<style scoped>\n",
              "    .dataframe tbody tr th:only-of-type {\n",
              "        vertical-align: middle;\n",
              "    }\n",
              "\n",
              "    .dataframe tbody tr th {\n",
              "        vertical-align: top;\n",
              "    }\n",
              "\n",
              "    .dataframe thead th {\n",
              "        text-align: right;\n",
              "    }\n",
              "</style>\n",
              "<table border=\"1\" class=\"dataframe\">\n",
              "  <thead>\n",
              "    <tr style=\"text-align: right;\">\n",
              "      <th></th>\n",
              "      <th>category</th>\n",
              "      <th>air_date</th>\n",
              "      <th>question</th>\n",
              "      <th>value</th>\n",
              "      <th>answer</th>\n",
              "      <th>round</th>\n",
              "      <th>show_number</th>\n",
              "    </tr>\n",
              "  </thead>\n",
              "  <tbody>\n",
              "    <tr>\n",
              "      <th>50</th>\n",
              "      <td>DR. SEUSS AT THE MULTIPLEX</td>\n",
              "      <td>2004-12-31</td>\n",
              "      <td>'&lt;a href=\"http://www.j-archive.com/media/2004-...</td>\n",
              "      <td>$2000</td>\n",
              "      <td>Bartholomew Cubbins</td>\n",
              "      <td>Double Jeopardy!</td>\n",
              "      <td>4680</td>\n",
              "    </tr>\n",
              "    <tr>\n",
              "      <th>51</th>\n",
              "      <td>AIRLINE TRAVEL</td>\n",
              "      <td>2004-12-31</td>\n",
              "      <td>'In the seat pocket you'll find the catalog ca...</td>\n",
              "      <td>$2000</td>\n",
              "      <td>Mall</td>\n",
              "      <td>Double Jeopardy!</td>\n",
              "      <td>4680</td>\n",
              "    </tr>\n",
              "    <tr>\n",
              "      <th>53</th>\n",
              "      <td>MUSICAL TRAINS</td>\n",
              "      <td>2004-12-31</td>\n",
              "      <td>'In 1961 James Brown announced \"all aboard\" fo...</td>\n",
              "      <td>$2000</td>\n",
              "      <td>\"Night Train\"</td>\n",
              "      <td>Double Jeopardy!</td>\n",
              "      <td>4680</td>\n",
              "    </tr>\n",
              "    <tr>\n",
              "      <th>54</th>\n",
              "      <td>\"X\"s &amp; \"O\"s</td>\n",
              "      <td>2004-12-31</td>\n",
              "      <td>'This 1797 imbroglio began when 3 French agent...</td>\n",
              "      <td>$2000</td>\n",
              "      <td>the XYZ Affair</td>\n",
              "      <td>Double Jeopardy!</td>\n",
              "      <td>4680</td>\n",
              "    </tr>\n",
              "    <tr>\n",
              "      <th>110</th>\n",
              "      <td>SCIENCE CLASS</td>\n",
              "      <td>2010-07-06</td>\n",
              "      <td>'Lava &amp; igneous rock are formed from this hot ...</td>\n",
              "      <td>$2000</td>\n",
              "      <td>magma</td>\n",
              "      <td>Double Jeopardy!</td>\n",
              "      <td>5957</td>\n",
              "    </tr>\n",
              "  </tbody>\n",
              "</table>\n",
              "</div>"
            ],
            "text/plain": [
              "                       category    air_date  ...             round show_number\n",
              "50   DR. SEUSS AT THE MULTIPLEX  2004-12-31  ...  Double Jeopardy!        4680\n",
              "51               AIRLINE TRAVEL  2004-12-31  ...  Double Jeopardy!        4680\n",
              "53               MUSICAL TRAINS  2004-12-31  ...  Double Jeopardy!        4680\n",
              "54                  \"X\"s & \"O\"s  2004-12-31  ...  Double Jeopardy!        4680\n",
              "110               SCIENCE CLASS  2010-07-06  ...  Double Jeopardy!        5957\n",
              "\n",
              "[5 rows x 7 columns]"
            ]
          },
          "metadata": {
            "tags": []
          },
          "execution_count": 13
        }
      ]
    },
    {
      "cell_type": "code",
      "metadata": {
        "id": "wMZT4WC3HlY8"
      },
      "source": [
        "#Tokenizing\r\n",
        "porter = PorterStemmer()\r\n",
        "stop = stopwords.words('english')\r\n",
        "def tokenizer_porter(questions):\r\n",
        "\treturn [porter.stem(word) for word in text.split() if word not in stop ]"
      ],
      "execution_count": 18,
      "outputs": []
    },
    {
      "cell_type": "code",
      "metadata": {
        "id": "L7rfxls-Qs24"
      },
      "source": [
        "highvalueqs = highvalue['question']"
      ],
      "execution_count": 14,
      "outputs": []
    },
    {
      "cell_type": "code",
      "metadata": {
        "colab": {
          "base_uri": "https://localhost:8080/"
        },
        "id": "jl8wnfF3RCX5",
        "outputId": "757022ae-91c3-4bf0-fe66-b64e7b417a94"
      },
      "source": [
        "highvalueqs.head()"
      ],
      "execution_count": 15,
      "outputs": [
        {
          "output_type": "execute_result",
          "data": {
            "text/plain": [
              "50     '<a href=\"http://www.j-archive.com/media/2004-...\n",
              "51     'In the seat pocket you'll find the catalog ca...\n",
              "53     'In 1961 James Brown announced \"all aboard\" fo...\n",
              "54     'This 1797 imbroglio began when 3 French agent...\n",
              "110    'Lava & igneous rock are formed from this hot ...\n",
              "Name: question, dtype: object"
            ]
          },
          "metadata": {
            "tags": []
          },
          "execution_count": 15
        }
      ]
    },
    {
      "cell_type": "code",
      "metadata": {
        "id": "QKZaI5qhWDqq",
        "colab": {
          "base_uri": "https://localhost:8080/"
        },
        "outputId": "b8174697-6a3c-4b5c-ae8a-3f3047623662"
      },
      "source": [
        "len(highvalueqs)"
      ],
      "execution_count": 16,
      "outputs": [
        {
          "output_type": "execute_result",
          "data": {
            "text/plain": [
              "11243"
            ]
          },
          "metadata": {
            "tags": []
          },
          "execution_count": 16
        }
      ]
    },
    {
      "cell_type": "code",
      "metadata": {
        "colab": {
          "base_uri": "https://localhost:8080/",
          "height": 340
        },
        "id": "Z6M9hFzp6SDP",
        "outputId": "c272fde8-26f3-4d32-f378-9975e0fb1e01"
      },
      "source": [
        "# Create a new column 'value_weight' with encoded categories can use to classify high or low value with no cleaning of numbers...woot!\n",
        "jeopardy['value_weight'] = jeopardy['value'].factorize()[0]\n",
        "value_df = jeopardy[['value', 'value_weight']] #new df containing value amounts and the value wright classification, considering 0-4 low value and 5-8 high value (None was classified as -1)\n",
        "\n",
        "\n",
        "# Dictionaries for future use\n",
        "value_to_id = dict(value_df.values)\n",
        "id_to_question = dict(value_df[['value_weight', 'value']].values)\n",
        "\n",
        "# New dataframe\n",
        "jeopardy.head()"
      ],
      "execution_count": 21,
      "outputs": [
        {
          "output_type": "execute_result",
          "data": {
            "text/html": [
              "<div>\n",
              "<style scoped>\n",
              "    .dataframe tbody tr th:only-of-type {\n",
              "        vertical-align: middle;\n",
              "    }\n",
              "\n",
              "    .dataframe tbody tr th {\n",
              "        vertical-align: top;\n",
              "    }\n",
              "\n",
              "    .dataframe thead th {\n",
              "        text-align: right;\n",
              "    }\n",
              "</style>\n",
              "<table border=\"1\" class=\"dataframe\">\n",
              "  <thead>\n",
              "    <tr style=\"text-align: right;\">\n",
              "      <th></th>\n",
              "      <th>category</th>\n",
              "      <th>air_date</th>\n",
              "      <th>question</th>\n",
              "      <th>value</th>\n",
              "      <th>answer</th>\n",
              "      <th>round</th>\n",
              "      <th>show_number</th>\n",
              "      <th>value_weight</th>\n",
              "    </tr>\n",
              "  </thead>\n",
              "  <tbody>\n",
              "    <tr>\n",
              "      <th>0</th>\n",
              "      <td>HISTORY</td>\n",
              "      <td>2004-12-31</td>\n",
              "      <td>'For the last 8 years of his life, Galileo was...</td>\n",
              "      <td>$200</td>\n",
              "      <td>Copernicus</td>\n",
              "      <td>Jeopardy!</td>\n",
              "      <td>4680</td>\n",
              "      <td>0</td>\n",
              "    </tr>\n",
              "    <tr>\n",
              "      <th>1</th>\n",
              "      <td>ESPN's TOP 10 ALL-TIME ATHLETES</td>\n",
              "      <td>2004-12-31</td>\n",
              "      <td>'No. 2: 1912 Olympian; football star at Carlis...</td>\n",
              "      <td>$200</td>\n",
              "      <td>Jim Thorpe</td>\n",
              "      <td>Jeopardy!</td>\n",
              "      <td>4680</td>\n",
              "      <td>0</td>\n",
              "    </tr>\n",
              "    <tr>\n",
              "      <th>2</th>\n",
              "      <td>EVERYBODY TALKS ABOUT IT...</td>\n",
              "      <td>2004-12-31</td>\n",
              "      <td>'The city of Yuma in this state has a record a...</td>\n",
              "      <td>$200</td>\n",
              "      <td>Arizona</td>\n",
              "      <td>Jeopardy!</td>\n",
              "      <td>4680</td>\n",
              "      <td>0</td>\n",
              "    </tr>\n",
              "    <tr>\n",
              "      <th>3</th>\n",
              "      <td>THE COMPANY LINE</td>\n",
              "      <td>2004-12-31</td>\n",
              "      <td>'In 1963, live on \"The Art Linkletter Show\", t...</td>\n",
              "      <td>$200</td>\n",
              "      <td>McDonald\\'s</td>\n",
              "      <td>Jeopardy!</td>\n",
              "      <td>4680</td>\n",
              "      <td>0</td>\n",
              "    </tr>\n",
              "    <tr>\n",
              "      <th>4</th>\n",
              "      <td>EPITAPHS &amp; TRIBUTES</td>\n",
              "      <td>2004-12-31</td>\n",
              "      <td>'Signer of the Dec. of Indep., framer of the C...</td>\n",
              "      <td>$200</td>\n",
              "      <td>John Adams</td>\n",
              "      <td>Jeopardy!</td>\n",
              "      <td>4680</td>\n",
              "      <td>0</td>\n",
              "    </tr>\n",
              "  </tbody>\n",
              "</table>\n",
              "</div>"
            ],
            "text/plain": [
              "                          category    air_date  ... show_number value_weight\n",
              "0                          HISTORY  2004-12-31  ...        4680            0\n",
              "1  ESPN's TOP 10 ALL-TIME ATHLETES  2004-12-31  ...        4680            0\n",
              "2      EVERYBODY TALKS ABOUT IT...  2004-12-31  ...        4680            0\n",
              "3                 THE COMPANY LINE  2004-12-31  ...        4680            0\n",
              "4              EPITAPHS & TRIBUTES  2004-12-31  ...        4680            0\n",
              "\n",
              "[5 rows x 8 columns]"
            ]
          },
          "metadata": {
            "tags": []
          },
          "execution_count": 21
        }
      ]
    },
    {
      "cell_type": "code",
      "metadata": {
        "colab": {
          "base_uri": "https://localhost:8080/",
          "height": 204
        },
        "id": "-6-8n0gn-_8K",
        "outputId": "a9444088-6619-4e2b-c5ad-fbac90b621fa"
      },
      "source": [
        "value_df.head()"
      ],
      "execution_count": 23,
      "outputs": [
        {
          "output_type": "execute_result",
          "data": {
            "text/html": [
              "<div>\n",
              "<style scoped>\n",
              "    .dataframe tbody tr th:only-of-type {\n",
              "        vertical-align: middle;\n",
              "    }\n",
              "\n",
              "    .dataframe tbody tr th {\n",
              "        vertical-align: top;\n",
              "    }\n",
              "\n",
              "    .dataframe thead th {\n",
              "        text-align: right;\n",
              "    }\n",
              "</style>\n",
              "<table border=\"1\" class=\"dataframe\">\n",
              "  <thead>\n",
              "    <tr style=\"text-align: right;\">\n",
              "      <th></th>\n",
              "      <th>value</th>\n",
              "      <th>value_weight</th>\n",
              "    </tr>\n",
              "  </thead>\n",
              "  <tbody>\n",
              "    <tr>\n",
              "      <th>0</th>\n",
              "      <td>$200</td>\n",
              "      <td>0</td>\n",
              "    </tr>\n",
              "    <tr>\n",
              "      <th>1</th>\n",
              "      <td>$200</td>\n",
              "      <td>0</td>\n",
              "    </tr>\n",
              "    <tr>\n",
              "      <th>2</th>\n",
              "      <td>$200</td>\n",
              "      <td>0</td>\n",
              "    </tr>\n",
              "    <tr>\n",
              "      <th>3</th>\n",
              "      <td>$200</td>\n",
              "      <td>0</td>\n",
              "    </tr>\n",
              "    <tr>\n",
              "      <th>4</th>\n",
              "      <td>$200</td>\n",
              "      <td>0</td>\n",
              "    </tr>\n",
              "  </tbody>\n",
              "</table>\n",
              "</div>"
            ],
            "text/plain": [
              "  value  value_weight\n",
              "0  $200             0\n",
              "1  $200             0\n",
              "2  $200             0\n",
              "3  $200             0\n",
              "4  $200             0"
            ]
          },
          "metadata": {
            "tags": []
          },
          "execution_count": 23
        }
      ]
    },
    {
      "cell_type": "code",
      "metadata": {
        "colab": {
          "base_uri": "https://localhost:8080/",
          "height": 204
        },
        "id": "f5NwMG7J_tNO",
        "outputId": "94f3705c-5867-48ae-8f2a-384749c81b55"
      },
      "source": [
        "value_df.tail()"
      ],
      "execution_count": 24,
      "outputs": [
        {
          "output_type": "execute_result",
          "data": {
            "text/html": [
              "<div>\n",
              "<style scoped>\n",
              "    .dataframe tbody tr th:only-of-type {\n",
              "        vertical-align: middle;\n",
              "    }\n",
              "\n",
              "    .dataframe tbody tr th {\n",
              "        vertical-align: top;\n",
              "    }\n",
              "\n",
              "    .dataframe thead th {\n",
              "        text-align: right;\n",
              "    }\n",
              "</style>\n",
              "<table border=\"1\" class=\"dataframe\">\n",
              "  <thead>\n",
              "    <tr style=\"text-align: right;\">\n",
              "      <th></th>\n",
              "      <th>value</th>\n",
              "      <th>value_weight</th>\n",
              "    </tr>\n",
              "  </thead>\n",
              "  <tbody>\n",
              "    <tr>\n",
              "      <th>216925</th>\n",
              "      <td>$2000</td>\n",
              "      <td>8</td>\n",
              "    </tr>\n",
              "    <tr>\n",
              "      <th>216926</th>\n",
              "      <td>$2000</td>\n",
              "      <td>8</td>\n",
              "    </tr>\n",
              "    <tr>\n",
              "      <th>216927</th>\n",
              "      <td>$2000</td>\n",
              "      <td>8</td>\n",
              "    </tr>\n",
              "    <tr>\n",
              "      <th>216928</th>\n",
              "      <td>$2000</td>\n",
              "      <td>8</td>\n",
              "    </tr>\n",
              "    <tr>\n",
              "      <th>216929</th>\n",
              "      <td>None</td>\n",
              "      <td>-1</td>\n",
              "    </tr>\n",
              "  </tbody>\n",
              "</table>\n",
              "</div>"
            ],
            "text/plain": [
              "        value  value_weight\n",
              "216925  $2000             8\n",
              "216926  $2000             8\n",
              "216927  $2000             8\n",
              "216928  $2000             8\n",
              "216929   None            -1"
            ]
          },
          "metadata": {
            "tags": []
          },
          "execution_count": 24
        }
      ]
    },
    {
      "cell_type": "code",
      "metadata": {
        "colab": {
          "base_uri": "https://localhost:8080/"
        },
        "id": "tqP_8Q2A_3Ls",
        "outputId": "d95bc069-a26c-4090-8602-8d779443e9f7"
      },
      "source": [
        "value_df.info()"
      ],
      "execution_count": 25,
      "outputs": [
        {
          "output_type": "stream",
          "text": [
            "<class 'pandas.core.frame.DataFrame'>\n",
            "RangeIndex: 216930 entries, 0 to 216929\n",
            "Data columns (total 2 columns):\n",
            " #   Column        Non-Null Count   Dtype \n",
            "---  ------        --------------   ----- \n",
            " 0   value         213296 non-null  object\n",
            " 1   value_weight  216930 non-null  int64 \n",
            "dtypes: int64(1), object(1)\n",
            "memory usage: 3.3+ MB\n"
          ],
          "name": "stdout"
        }
      ]
    },
    {
      "cell_type": "code",
      "metadata": {
        "colab": {
          "base_uri": "https://localhost:8080/",
          "height": 632
        },
        "id": "r0bhfhZ4BPMT",
        "outputId": "fe6216e4-2609-406d-adaf-e59d5158d3c9"
      },
      "source": [
        "jeopardy['high_low'] = jeopardy['value_weight']\n",
        "jeopardy['high_low'].loc[jeopardy['high_low'] >=5] = 'High'\n",
        "jeopardy['high_low'].loc[jeopardy['high_low'] == 0] = 'Low'\n",
        "jeopardy['high_low'].loc[jeopardy['high_low'] == 1] = 'Low'\n",
        "jeopardy['high_low'].loc[jeopardy['high_low'] == 2] = 'Low'\n",
        "jeopardy['high_low'].loc[jeopardy['high_low'] == 3] = 'Low'\n",
        "jeopardy['high_low'].loc[jeopardy['high_low'] == 4] = 'Low'\n",
        "jeopardy.tail()"
      ],
      "execution_count": 46,
      "outputs": [
        {
          "output_type": "stream",
          "text": [
            "/usr/local/lib/python3.6/dist-packages/pandas/core/indexing.py:670: SettingWithCopyWarning: \n",
            "A value is trying to be set on a copy of a slice from a DataFrame\n",
            "\n",
            "See the caveats in the documentation: https://pandas.pydata.org/pandas-docs/stable/user_guide/indexing.html#returning-a-view-versus-a-copy\n",
            "  iloc._setitem_with_indexer(indexer, value)\n"
          ],
          "name": "stderr"
        },
        {
          "output_type": "execute_result",
          "data": {
            "text/html": [
              "<div>\n",
              "<style scoped>\n",
              "    .dataframe tbody tr th:only-of-type {\n",
              "        vertical-align: middle;\n",
              "    }\n",
              "\n",
              "    .dataframe tbody tr th {\n",
              "        vertical-align: top;\n",
              "    }\n",
              "\n",
              "    .dataframe thead th {\n",
              "        text-align: right;\n",
              "    }\n",
              "</style>\n",
              "<table border=\"1\" class=\"dataframe\">\n",
              "  <thead>\n",
              "    <tr style=\"text-align: right;\">\n",
              "      <th></th>\n",
              "      <th>category</th>\n",
              "      <th>air_date</th>\n",
              "      <th>question</th>\n",
              "      <th>value</th>\n",
              "      <th>answer</th>\n",
              "      <th>round</th>\n",
              "      <th>show_number</th>\n",
              "      <th>value_weight</th>\n",
              "      <th>high_low</th>\n",
              "    </tr>\n",
              "  </thead>\n",
              "  <tbody>\n",
              "    <tr>\n",
              "      <th>216924</th>\n",
              "      <td>OFF-BROADWAY</td>\n",
              "      <td>2006-05-11</td>\n",
              "      <td>'In 2006 the cast of this long-running hit emb...</td>\n",
              "      <td>$2000</td>\n",
              "      <td>Stomp</td>\n",
              "      <td>Double Jeopardy!</td>\n",
              "      <td>4999</td>\n",
              "      <td>8</td>\n",
              "      <td>High</td>\n",
              "    </tr>\n",
              "    <tr>\n",
              "      <th>216925</th>\n",
              "      <td>RIDDLE ME THIS</td>\n",
              "      <td>2006-05-11</td>\n",
              "      <td>'This Puccini opera turns on the solution to 3...</td>\n",
              "      <td>$2000</td>\n",
              "      <td>Turandot</td>\n",
              "      <td>Double Jeopardy!</td>\n",
              "      <td>4999</td>\n",
              "      <td>8</td>\n",
              "      <td>High</td>\n",
              "    </tr>\n",
              "    <tr>\n",
              "      <th>216926</th>\n",
              "      <td>\"T\" BIRDS</td>\n",
              "      <td>2006-05-11</td>\n",
              "      <td>'In North America this term is properly applie...</td>\n",
              "      <td>$2000</td>\n",
              "      <td>a titmouse</td>\n",
              "      <td>Double Jeopardy!</td>\n",
              "      <td>4999</td>\n",
              "      <td>8</td>\n",
              "      <td>High</td>\n",
              "    </tr>\n",
              "    <tr>\n",
              "      <th>216927</th>\n",
              "      <td>AUTHORS IN THEIR YOUTH</td>\n",
              "      <td>2006-05-11</td>\n",
              "      <td>'In Penny Lane, where this \"Hellraiser\" grew u...</td>\n",
              "      <td>$2000</td>\n",
              "      <td>Clive Barker</td>\n",
              "      <td>Double Jeopardy!</td>\n",
              "      <td>4999</td>\n",
              "      <td>8</td>\n",
              "      <td>High</td>\n",
              "    </tr>\n",
              "    <tr>\n",
              "      <th>216928</th>\n",
              "      <td>QUOTATIONS</td>\n",
              "      <td>2006-05-11</td>\n",
              "      <td>'From Ft. Sill, Okla. he made the plea, Arizon...</td>\n",
              "      <td>$2000</td>\n",
              "      <td>Geronimo</td>\n",
              "      <td>Double Jeopardy!</td>\n",
              "      <td>4999</td>\n",
              "      <td>8</td>\n",
              "      <td>High</td>\n",
              "    </tr>\n",
              "  </tbody>\n",
              "</table>\n",
              "</div>"
            ],
            "text/plain": [
              "                      category    air_date  ... value_weight high_low\n",
              "216924            OFF-BROADWAY  2006-05-11  ...            8     High\n",
              "216925          RIDDLE ME THIS  2006-05-11  ...            8     High\n",
              "216926               \"T\" BIRDS  2006-05-11  ...            8     High\n",
              "216927  AUTHORS IN THEIR YOUTH  2006-05-11  ...            8     High\n",
              "216928              QUOTATIONS  2006-05-11  ...            8     High\n",
              "\n",
              "[5 rows x 9 columns]"
            ]
          },
          "metadata": {
            "tags": []
          },
          "execution_count": 46
        }
      ]
    },
    {
      "cell_type": "code",
      "metadata": {
        "id": "rsTgLWmIGDoM"
      },
      "source": [
        "jeopardy=jeopardy.dropna()"
      ],
      "execution_count": 48,
      "outputs": []
    },
    {
      "cell_type": "code",
      "metadata": {
        "colab": {
          "base_uri": "https://localhost:8080/"
        },
        "id": "kdQnDSTSDKGw",
        "outputId": "73744e91-4b77-4ac1-85bd-7d90aad0d3d1"
      },
      "source": [
        "jeopardy.high_low.value_counts()"
      ],
      "execution_count": 49,
      "outputs": [
        {
          "output_type": "execute_result",
          "data": {
            "text/plain": [
              "Low     126522\n",
              "High     86774\n",
              "Name: high_low, dtype: int64"
            ]
          },
          "metadata": {
            "tags": []
          },
          "execution_count": 49
        }
      ]
    },
    {
      "cell_type": "code",
      "metadata": {
        "id": "04EjC7x1Ma2Z"
      },
      "source": [
        "X_train, X_test, y_train, y_test = train_test_split(jeopardy.question, jeopardy.high_low, \n",
        "\t\t\t\t\t\trandom_state=1)\n",
        "\n",
        "tfidf_vectorizer = TfidfVectorizer(use_idf=True)\n",
        "X_train_tf = tfidf_vectorizer.fit_transform(X_train)\n",
        "X_test_tf = tfidf_vectorizer.transform(X_test)"
      ],
      "execution_count": 55,
      "outputs": []
    },
    {
      "cell_type": "code",
      "metadata": {
        "id": "Aozr3BYLMa8e",
        "colab": {
          "base_uri": "https://localhost:8080/"
        },
        "outputId": "fbc7cfa1-5cde-4064-f2e9-82678c82ac9a"
      },
      "source": [
        "naive_bayes = MultinomialNB()\n",
        "naive_bayes.fit(X_train_tf, y_train) #training, finding the likelihood of these vectors predicting it being a hard question\n",
        "predictions = naive_bayes.predict(X_test_tf) #how well doing using naive bayes\n",
        "\n",
        "print('Accuracy: ', accuracy_score(y_test, predictions)) #how well you predict a question being hard\n"
      ],
      "execution_count": 58,
      "outputs": [
        {
          "output_type": "stream",
          "text": [
            "Accuracy:  0.5944790338309204\n"
          ],
          "name": "stdout"
        }
      ]
    },
    {
      "cell_type": "code",
      "metadata": {
        "id": "GOXxbFmLHh9T"
      },
      "source": [
        ""
      ],
      "execution_count": null,
      "outputs": []
    }
  ]
}