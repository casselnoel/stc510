{
 "cells": [
  {
   "cell_type": "code",
   "execution_count": 1,
   "metadata": {
    "_cell_guid": "b1076dfc-b9ad-4769-8c92-a6c4dae69d19",
    "_uuid": "8f2839f25d086af736a60e9eeb907d3b93b6e0e5",
    "execution": {
     "iopub.execute_input": "2021-02-01T14:13:31.635083Z",
     "iopub.status.busy": "2021-02-01T14:13:31.634386Z",
     "iopub.status.idle": "2021-02-01T14:13:31.638781Z",
     "shell.execute_reply": "2021-02-01T14:13:31.638055Z"
    },
    "papermill": {
     "duration": 0.021472,
     "end_time": "2021-02-01T14:13:31.638983",
     "exception": false,
     "start_time": "2021-02-01T14:13:31.617511",
     "status": "completed"
    },
    "tags": []
   },
   "outputs": [],
   "source": [
    "import numpy as np\n",
    "import os\n",
    "import pandas as pd"
   ]
  },
  {
   "cell_type": "markdown",
   "metadata": {
    "papermill": {
     "duration": 0.009831,
     "end_time": "2021-02-01T14:13:31.659564",
     "exception": false,
     "start_time": "2021-02-01T14:13:31.649733",
     "status": "completed"
    },
    "tags": []
   },
   "source": [
    "I had trouble loading the entire data set, so I limited to 1000 rows and also set the INC Number Heading as the key/index numbers, then saving this as the new .csv"
   ]
  },
  {
   "cell_type": "code",
   "execution_count": 2,
   "metadata": {
    "execution": {
     "iopub.execute_input": "2021-02-01T14:13:31.683348Z",
     "iopub.status.busy": "2021-02-01T14:13:31.682604Z",
     "iopub.status.idle": "2021-02-01T14:13:31.732045Z",
     "shell.execute_reply": "2021-02-01T14:13:31.731433Z"
    },
    "papermill": {
     "duration": 0.062593,
     "end_time": "2021-02-01T14:13:31.732326",
     "exception": false,
     "start_time": "2021-02-01T14:13:31.669733",
     "status": "completed"
    },
    "tags": []
   },
   "outputs": [],
   "source": [
    "nRowsRead = 1000\n",
    "df1 = pd.read_csv('../input/phoenix-crime-data/crimestat (1).csv', delimiter=',', nrows = nRowsRead, index_col='INC NUMBER')\n",
    "df1.dataframeName = 'crimestat (1).csv'"
   ]
  },
  {
   "cell_type": "code",
   "execution_count": 3,
   "metadata": {
    "execution": {
     "iopub.execute_input": "2021-02-01T14:13:31.761138Z",
     "iopub.status.busy": "2021-02-01T14:13:31.760417Z",
     "iopub.status.idle": "2021-02-01T14:13:31.778610Z",
     "shell.execute_reply": "2021-02-01T14:13:31.777909Z"
    },
    "papermill": {
     "duration": 0.035198,
     "end_time": "2021-02-01T14:13:31.778766",
     "exception": false,
     "start_time": "2021-02-01T14:13:31.743568",
     "status": "completed"
    },
    "tags": []
   },
   "outputs": [
    {
     "data": {
      "text/html": [
       "<div>\n",
       "<style scoped>\n",
       "    .dataframe tbody tr th:only-of-type {\n",
       "        vertical-align: middle;\n",
       "    }\n",
       "\n",
       "    .dataframe tbody tr th {\n",
       "        vertical-align: top;\n",
       "    }\n",
       "\n",
       "    .dataframe thead th {\n",
       "        text-align: right;\n",
       "    }\n",
       "</style>\n",
       "<table border=\"1\" class=\"dataframe\">\n",
       "  <thead>\n",
       "    <tr style=\"text-align: right;\">\n",
       "      <th></th>\n",
       "      <th>OCCURRED ON</th>\n",
       "      <th>OCCURRED TO</th>\n",
       "      <th>UCR CRIME CATEGORY</th>\n",
       "      <th>100 BLOCK ADDR</th>\n",
       "      <th>ZIP</th>\n",
       "      <th>PREMISE TYPE</th>\n",
       "    </tr>\n",
       "    <tr>\n",
       "      <th>INC NUMBER</th>\n",
       "      <th></th>\n",
       "      <th></th>\n",
       "      <th></th>\n",
       "      <th></th>\n",
       "      <th></th>\n",
       "      <th></th>\n",
       "    </tr>\n",
       "  </thead>\n",
       "  <tbody>\n",
       "    <tr>\n",
       "      <th>201600000052855</th>\n",
       "      <td>11/01/2015  00:00</td>\n",
       "      <td>01/09/2016  00:00</td>\n",
       "      <td>MOTOR VEHICLE THEFT</td>\n",
       "      <td>N 43RD AVE &amp; W CACTUS RD</td>\n",
       "      <td>85029</td>\n",
       "      <td>SINGLE FAMILY HOUSE</td>\n",
       "    </tr>\n",
       "    <tr>\n",
       "      <th>201600000594484</th>\n",
       "      <td>11/01/2015  00:00</td>\n",
       "      <td>NaN</td>\n",
       "      <td>RAPE</td>\n",
       "      <td>13XX E ALMERIA RD</td>\n",
       "      <td>85006</td>\n",
       "      <td>SINGLE FAMILY HOUSE</td>\n",
       "    </tr>\n",
       "    <tr>\n",
       "      <th>201500002102327</th>\n",
       "      <td>11/01/2015  00:00</td>\n",
       "      <td>11/01/2015  09:00</td>\n",
       "      <td>LARCENY-THEFT</td>\n",
       "      <td>51XX N 15TH ST</td>\n",
       "      <td>85014</td>\n",
       "      <td>APARTMENT</td>\n",
       "    </tr>\n",
       "    <tr>\n",
       "      <th>201500002101405</th>\n",
       "      <td>11/01/2015  00:00</td>\n",
       "      <td>11/01/2015  05:00</td>\n",
       "      <td>MOTOR VEHICLE THEFT</td>\n",
       "      <td>102XX W MEDLOCK AVE</td>\n",
       "      <td>85307</td>\n",
       "      <td>SINGLE FAMILY HOUSE</td>\n",
       "    </tr>\n",
       "    <tr>\n",
       "      <th>201500002102668</th>\n",
       "      <td>11/01/2015  00:00</td>\n",
       "      <td>11/01/2015  11:50</td>\n",
       "      <td>MOTOR VEHICLE THEFT</td>\n",
       "      <td>69XX W WOOD ST</td>\n",
       "      <td>85043</td>\n",
       "      <td>SINGLE FAMILY HOUSE</td>\n",
       "    </tr>\n",
       "  </tbody>\n",
       "</table>\n",
       "</div>"
      ],
      "text/plain": [
       "                       OCCURRED ON        OCCURRED TO   UCR CRIME CATEGORY  \\\n",
       "INC NUMBER                                                                   \n",
       "201600000052855  11/01/2015  00:00  01/09/2016  00:00  MOTOR VEHICLE THEFT   \n",
       "201600000594484  11/01/2015  00:00                NaN                 RAPE   \n",
       "201500002102327  11/01/2015  00:00  11/01/2015  09:00        LARCENY-THEFT   \n",
       "201500002101405  11/01/2015  00:00  11/01/2015  05:00  MOTOR VEHICLE THEFT   \n",
       "201500002102668  11/01/2015  00:00  11/01/2015  11:50  MOTOR VEHICLE THEFT   \n",
       "\n",
       "                           100 BLOCK ADDR    ZIP         PREMISE TYPE  \n",
       "INC NUMBER                                                             \n",
       "201600000052855  N 43RD AVE & W CACTUS RD  85029  SINGLE FAMILY HOUSE  \n",
       "201600000594484         13XX E ALMERIA RD  85006  SINGLE FAMILY HOUSE  \n",
       "201500002102327            51XX N 15TH ST  85014            APARTMENT  \n",
       "201500002101405       102XX W MEDLOCK AVE  85307  SINGLE FAMILY HOUSE  \n",
       "201500002102668            69XX W WOOD ST  85043  SINGLE FAMILY HOUSE  "
      ]
     },
     "execution_count": 3,
     "metadata": {},
     "output_type": "execute_result"
    }
   ],
   "source": [
    "df1.head(5)"
   ]
  },
  {
   "cell_type": "code",
   "execution_count": 4,
   "metadata": {
    "execution": {
     "iopub.execute_input": "2021-02-01T14:13:31.820492Z",
     "iopub.status.busy": "2021-02-01T14:13:31.819534Z",
     "iopub.status.idle": "2021-02-01T14:13:31.822969Z",
     "shell.execute_reply": "2021-02-01T14:13:31.823464Z"
    },
    "papermill": {
     "duration": 0.033488,
     "end_time": "2021-02-01T14:13:31.823653",
     "exception": false,
     "start_time": "2021-02-01T14:13:31.790165",
     "status": "completed"
    },
    "tags": []
   },
   "outputs": [
    {
     "name": "stdout",
     "output_type": "stream",
     "text": [
      "<class 'pandas.core.frame.DataFrame'>\n",
      "Int64Index: 1000 entries, 201600000052855 to 201580008352\n",
      "Data columns (total 6 columns):\n",
      " #   Column              Non-Null Count  Dtype \n",
      "---  ------              --------------  ----- \n",
      " 0   OCCURRED ON         997 non-null    object\n",
      " 1   OCCURRED TO         770 non-null    object\n",
      " 2   UCR CRIME CATEGORY  1000 non-null   object\n",
      " 3   100 BLOCK ADDR      1000 non-null   object\n",
      " 4   ZIP                 1000 non-null   int64 \n",
      " 5   PREMISE TYPE        988 non-null    object\n",
      "dtypes: int64(1), object(5)\n",
      "memory usage: 54.7+ KB\n"
     ]
    }
   ],
   "source": [
    "df1.info()"
   ]
  },
  {
   "cell_type": "code",
   "execution_count": 5,
   "metadata": {
    "execution": {
     "iopub.execute_input": "2021-02-01T14:13:31.853413Z",
     "iopub.status.busy": "2021-02-01T14:13:31.852733Z",
     "iopub.status.idle": "2021-02-01T14:13:31.875055Z",
     "shell.execute_reply": "2021-02-01T14:13:31.874407Z"
    },
    "papermill": {
     "duration": 0.039729,
     "end_time": "2021-02-01T14:13:31.875220",
     "exception": false,
     "start_time": "2021-02-01T14:13:31.835491",
     "status": "completed"
    },
    "tags": []
   },
   "outputs": [
    {
     "data": {
      "text/html": [
       "<div>\n",
       "<style scoped>\n",
       "    .dataframe tbody tr th:only-of-type {\n",
       "        vertical-align: middle;\n",
       "    }\n",
       "\n",
       "    .dataframe tbody tr th {\n",
       "        vertical-align: top;\n",
       "    }\n",
       "\n",
       "    .dataframe thead th {\n",
       "        text-align: right;\n",
       "    }\n",
       "</style>\n",
       "<table border=\"1\" class=\"dataframe\">\n",
       "  <thead>\n",
       "    <tr style=\"text-align: right;\">\n",
       "      <th></th>\n",
       "      <th>OCCURRED ON</th>\n",
       "      <th>OCCURRED TO</th>\n",
       "      <th>UCR CRIME CATEGORY</th>\n",
       "      <th>100 BLOCK ADDR</th>\n",
       "      <th>ZIP</th>\n",
       "      <th>PREMISE TYPE</th>\n",
       "    </tr>\n",
       "    <tr>\n",
       "      <th>INC NUMBER</th>\n",
       "      <th></th>\n",
       "      <th></th>\n",
       "      <th></th>\n",
       "      <th></th>\n",
       "      <th></th>\n",
       "      <th></th>\n",
       "    </tr>\n",
       "  </thead>\n",
       "  <tbody>\n",
       "    <tr>\n",
       "      <th>201500002122070</th>\n",
       "      <td>11/04/2015  08:47</td>\n",
       "      <td>NaN</td>\n",
       "      <td>AGGRAVATED ASSAULT</td>\n",
       "      <td>4XX W MONROE ST</td>\n",
       "      <td>85003</td>\n",
       "      <td>NaN</td>\n",
       "    </tr>\n",
       "    <tr>\n",
       "      <th>201500002122447</th>\n",
       "      <td>11/04/2015  00:25</td>\n",
       "      <td>11/04/2015  00:45</td>\n",
       "      <td>AGGRAVATED ASSAULT</td>\n",
       "      <td>1XX N 2ND ST</td>\n",
       "      <td>85004</td>\n",
       "      <td>BAR / LOUNG / NIGHT CLUB</td>\n",
       "    </tr>\n",
       "    <tr>\n",
       "      <th>201500002110212</th>\n",
       "      <td>11/02/2015  13:55</td>\n",
       "      <td>11/02/2015  13:55</td>\n",
       "      <td>AGGRAVATED ASSAULT</td>\n",
       "      <td>E ROOSEVELT ST &amp; N 16TH ST</td>\n",
       "      <td>85006</td>\n",
       "      <td>STREET / ROADWAY / ALLEY / SIDEWALK</td>\n",
       "    </tr>\n",
       "    <tr>\n",
       "      <th>201500002118199</th>\n",
       "      <td>11/03/2015  16:13</td>\n",
       "      <td>NaN</td>\n",
       "      <td>AGGRAVATED ASSAULT</td>\n",
       "      <td>17XX W POLK ST</td>\n",
       "      <td>85007</td>\n",
       "      <td>FENCED RESIDENTIAL YARD</td>\n",
       "    </tr>\n",
       "    <tr>\n",
       "      <th>201500002139229</th>\n",
       "      <td>11/06/2015  18:49</td>\n",
       "      <td>11/06/2015  18:49</td>\n",
       "      <td>AGGRAVATED ASSAULT</td>\n",
       "      <td>9XX W MOHAVE ST</td>\n",
       "      <td>85007</td>\n",
       "      <td>DRIVEWAY</td>\n",
       "    </tr>\n",
       "    <tr>\n",
       "      <th>...</th>\n",
       "      <td>...</td>\n",
       "      <td>...</td>\n",
       "      <td>...</td>\n",
       "      <td>...</td>\n",
       "      <td>...</td>\n",
       "      <td>...</td>\n",
       "    </tr>\n",
       "    <tr>\n",
       "      <th>201500002101137</th>\n",
       "      <td>11/01/2015  04:14</td>\n",
       "      <td>NaN</td>\n",
       "      <td>ROBBERY</td>\n",
       "      <td>138XX S 44TH ST</td>\n",
       "      <td>85044</td>\n",
       "      <td>STREET / ROADWAY / ALLEY / SIDEWALK</td>\n",
       "    </tr>\n",
       "    <tr>\n",
       "      <th>201500002118140</th>\n",
       "      <td>11/03/2015  16:00</td>\n",
       "      <td>11/03/2015  16:03</td>\n",
       "      <td>ROBBERY</td>\n",
       "      <td>152XX S 50TH ST</td>\n",
       "      <td>85044</td>\n",
       "      <td>HOTEL / MOTEL</td>\n",
       "    </tr>\n",
       "    <tr>\n",
       "      <th>201500002137941</th>\n",
       "      <td>11/06/2015  16:00</td>\n",
       "      <td>11/06/2015  16:05</td>\n",
       "      <td>ROBBERY</td>\n",
       "      <td>34XX W DUNLAP AVE</td>\n",
       "      <td>85051</td>\n",
       "      <td>PARKING LOT</td>\n",
       "    </tr>\n",
       "    <tr>\n",
       "      <th>201500002138511</th>\n",
       "      <td>11/06/2015  17:21</td>\n",
       "      <td>NaN</td>\n",
       "      <td>ROBBERY</td>\n",
       "      <td>33XX W TANGERINE LN</td>\n",
       "      <td>85051</td>\n",
       "      <td>DRIVEWAY</td>\n",
       "    </tr>\n",
       "    <tr>\n",
       "      <th>201500002105223</th>\n",
       "      <td>11/01/2015  17:00</td>\n",
       "      <td>11/01/2015  17:30</td>\n",
       "      <td>ROBBERY</td>\n",
       "      <td>350XX N NORTH VALLEY PKWY</td>\n",
       "      <td>85086</td>\n",
       "      <td>SPECIALTY STORE</td>\n",
       "    </tr>\n",
       "  </tbody>\n",
       "</table>\n",
       "<p>1000 rows × 6 columns</p>\n",
       "</div>"
      ],
      "text/plain": [
       "                       OCCURRED ON        OCCURRED TO  UCR CRIME CATEGORY  \\\n",
       "INC NUMBER                                                                  \n",
       "201500002122070  11/04/2015  08:47                NaN  AGGRAVATED ASSAULT   \n",
       "201500002122447  11/04/2015  00:25  11/04/2015  00:45  AGGRAVATED ASSAULT   \n",
       "201500002110212  11/02/2015  13:55  11/02/2015  13:55  AGGRAVATED ASSAULT   \n",
       "201500002118199  11/03/2015  16:13                NaN  AGGRAVATED ASSAULT   \n",
       "201500002139229  11/06/2015  18:49  11/06/2015  18:49  AGGRAVATED ASSAULT   \n",
       "...                            ...                ...                 ...   \n",
       "201500002101137  11/01/2015  04:14                NaN             ROBBERY   \n",
       "201500002118140  11/03/2015  16:00  11/03/2015  16:03             ROBBERY   \n",
       "201500002137941  11/06/2015  16:00  11/06/2015  16:05             ROBBERY   \n",
       "201500002138511  11/06/2015  17:21                NaN             ROBBERY   \n",
       "201500002105223  11/01/2015  17:00  11/01/2015  17:30             ROBBERY   \n",
       "\n",
       "                             100 BLOCK ADDR    ZIP  \\\n",
       "INC NUMBER                                           \n",
       "201500002122070             4XX W MONROE ST  85003   \n",
       "201500002122447                1XX N 2ND ST  85004   \n",
       "201500002110212  E ROOSEVELT ST & N 16TH ST  85006   \n",
       "201500002118199              17XX W POLK ST  85007   \n",
       "201500002139229             9XX W MOHAVE ST  85007   \n",
       "...                                     ...    ...   \n",
       "201500002101137             138XX S 44TH ST  85044   \n",
       "201500002118140             152XX S 50TH ST  85044   \n",
       "201500002137941           34XX W DUNLAP AVE  85051   \n",
       "201500002138511         33XX W TANGERINE LN  85051   \n",
       "201500002105223   350XX N NORTH VALLEY PKWY  85086   \n",
       "\n",
       "                                        PREMISE TYPE  \n",
       "INC NUMBER                                            \n",
       "201500002122070                                  NaN  \n",
       "201500002122447             BAR / LOUNG / NIGHT CLUB  \n",
       "201500002110212  STREET / ROADWAY / ALLEY / SIDEWALK  \n",
       "201500002118199              FENCED RESIDENTIAL YARD  \n",
       "201500002139229                             DRIVEWAY  \n",
       "...                                              ...  \n",
       "201500002101137  STREET / ROADWAY / ALLEY / SIDEWALK  \n",
       "201500002118140                        HOTEL / MOTEL  \n",
       "201500002137941                          PARKING LOT  \n",
       "201500002138511                             DRIVEWAY  \n",
       "201500002105223                      SPECIALTY STORE  \n",
       "\n",
       "[1000 rows x 6 columns]"
      ]
     },
     "execution_count": 5,
     "metadata": {},
     "output_type": "execute_result"
    }
   ],
   "source": [
    "df1.sort_values(by=['UCR CRIME CATEGORY','ZIP'])"
   ]
  },
  {
   "cell_type": "markdown",
   "metadata": {
    "papermill": {
     "duration": 0.01202,
     "end_time": "2021-02-01T14:13:31.899905",
     "exception": false,
     "start_time": "2021-02-01T14:13:31.887885",
     "status": "completed"
    },
    "tags": []
   },
   "source": [
    "I decided to look at Crime Categories groupings then Zip Codes in which crimes were occuring. Here I had only filteres the data so I made new data frames and grouped by these categories to manipulate."
   ]
  },
  {
   "cell_type": "code",
   "execution_count": 6,
   "metadata": {
    "execution": {
     "iopub.execute_input": "2021-02-01T14:13:31.932482Z",
     "iopub.status.busy": "2021-02-01T14:13:31.931779Z",
     "iopub.status.idle": "2021-02-01T14:13:31.935874Z",
     "shell.execute_reply": "2021-02-01T14:13:31.935246Z"
    },
    "papermill": {
     "duration": 0.023835,
     "end_time": "2021-02-01T14:13:31.936128",
     "exception": false,
     "start_time": "2021-02-01T14:13:31.912293",
     "status": "completed"
    },
    "tags": []
   },
   "outputs": [
    {
     "data": {
      "text/plain": [
       "85015    53\n",
       "85035    48\n",
       "85041    48\n",
       "85017    46\n",
       "85009    43\n",
       "85008    41\n",
       "85043    40\n",
       "85051    37\n",
       "85023    36\n",
       "85033    35\n",
       "85031    33\n",
       "85042    32\n",
       "85029    31\n",
       "85016    30\n",
       "85032    29\n",
       "85040    29\n",
       "85019    27\n",
       "85022    23\n",
       "85021    23\n",
       "85027    21\n",
       "85339    21\n",
       "85014    20\n",
       "85254    19\n",
       "85044    17\n",
       "85013    17\n",
       "85034    17\n",
       "85006    16\n",
       "85353    14\n",
       "85020    14\n",
       "85037    12\n",
       "85053    12\n",
       "85007    11\n",
       "85004    11\n",
       "85085    10\n",
       "85003    10\n",
       "85048    10\n",
       "85018     9\n",
       "85024     9\n",
       "85012     8\n",
       "85308     8\n",
       "85054     6\n",
       "85028     5\n",
       "85050     3\n",
       "85086     3\n",
       "85306     3\n",
       "85307     3\n",
       "85331     3\n",
       "85083     2\n",
       "85045     1\n",
       "85310     1\n",
       "Name: ZIP, dtype: int64"
      ]
     },
     "execution_count": 6,
     "metadata": {},
     "output_type": "execute_result"
    }
   ],
   "source": [
    "df1.ZIP.value_counts()"
   ]
  },
  {
   "cell_type": "code",
   "execution_count": 7,
   "metadata": {
    "execution": {
     "iopub.execute_input": "2021-02-01T14:13:31.967218Z",
     "iopub.status.busy": "2021-02-01T14:13:31.966568Z",
     "iopub.status.idle": "2021-02-01T14:13:31.970564Z",
     "shell.execute_reply": "2021-02-01T14:13:31.971237Z"
    },
    "papermill": {
     "duration": 0.020509,
     "end_time": "2021-02-01T14:13:31.971416",
     "exception": false,
     "start_time": "2021-02-01T14:13:31.950907",
     "status": "completed"
    },
    "tags": []
   },
   "outputs": [],
   "source": [
    "crime_loc=df1.groupby('ZIP')"
   ]
  },
  {
   "cell_type": "code",
   "execution_count": 8,
   "metadata": {
    "execution": {
     "iopub.execute_input": "2021-02-01T14:13:32.001074Z",
     "iopub.status.busy": "2021-02-01T14:13:32.000423Z",
     "iopub.status.idle": "2021-02-01T14:13:32.004450Z",
     "shell.execute_reply": "2021-02-01T14:13:32.005014Z"
    },
    "papermill": {
     "duration": 0.020734,
     "end_time": "2021-02-01T14:13:32.005342",
     "exception": false,
     "start_time": "2021-02-01T14:13:31.984608",
     "status": "completed"
    },
    "tags": []
   },
   "outputs": [],
   "source": [
    "crime_cat=df1.groupby('UCR CRIME CATEGORY')"
   ]
  },
  {
   "cell_type": "code",
   "execution_count": 9,
   "metadata": {
    "execution": {
     "iopub.execute_input": "2021-02-01T14:13:32.035945Z",
     "iopub.status.busy": "2021-02-01T14:13:32.035278Z",
     "iopub.status.idle": "2021-02-01T14:13:32.079830Z",
     "shell.execute_reply": "2021-02-01T14:13:32.078617Z"
    },
    "papermill": {
     "duration": 0.060887,
     "end_time": "2021-02-01T14:13:32.079983",
     "exception": false,
     "start_time": "2021-02-01T14:13:32.019096",
     "status": "completed"
    },
    "tags": []
   },
   "outputs": [
    {
     "data": {
      "text/html": [
       "<div>\n",
       "<style scoped>\n",
       "    .dataframe tbody tr th:only-of-type {\n",
       "        vertical-align: middle;\n",
       "    }\n",
       "\n",
       "    .dataframe tbody tr th {\n",
       "        vertical-align: top;\n",
       "    }\n",
       "\n",
       "    .dataframe thead th {\n",
       "        text-align: right;\n",
       "    }\n",
       "</style>\n",
       "<table border=\"1\" class=\"dataframe\">\n",
       "  <thead>\n",
       "    <tr style=\"text-align: right;\">\n",
       "      <th></th>\n",
       "      <th>count</th>\n",
       "      <th>mean</th>\n",
       "      <th>std</th>\n",
       "      <th>min</th>\n",
       "      <th>25%</th>\n",
       "      <th>50%</th>\n",
       "      <th>75%</th>\n",
       "      <th>max</th>\n",
       "    </tr>\n",
       "    <tr>\n",
       "      <th>UCR CRIME CATEGORY</th>\n",
       "      <th></th>\n",
       "      <th></th>\n",
       "      <th></th>\n",
       "      <th></th>\n",
       "      <th></th>\n",
       "      <th></th>\n",
       "      <th></th>\n",
       "      <th></th>\n",
       "    </tr>\n",
       "  </thead>\n",
       "  <tbody>\n",
       "    <tr>\n",
       "      <th>AGGRAVATED ASSAULT</th>\n",
       "      <td>61.0</td>\n",
       "      <td>85044.016393</td>\n",
       "      <td>80.707805</td>\n",
       "      <td>85003.0</td>\n",
       "      <td>85014.00</td>\n",
       "      <td>85022.0</td>\n",
       "      <td>85035.00</td>\n",
       "      <td>85353.0</td>\n",
       "    </tr>\n",
       "    <tr>\n",
       "      <th>ARSON</th>\n",
       "      <td>2.0</td>\n",
       "      <td>85015.500000</td>\n",
       "      <td>10.606602</td>\n",
       "      <td>85008.0</td>\n",
       "      <td>85011.75</td>\n",
       "      <td>85015.5</td>\n",
       "      <td>85019.25</td>\n",
       "      <td>85023.0</td>\n",
       "    </tr>\n",
       "    <tr>\n",
       "      <th>BURGLARY</th>\n",
       "      <td>194.0</td>\n",
       "      <td>85056.056701</td>\n",
       "      <td>88.098166</td>\n",
       "      <td>85003.0</td>\n",
       "      <td>85015.25</td>\n",
       "      <td>85030.0</td>\n",
       "      <td>85042.00</td>\n",
       "      <td>85353.0</td>\n",
       "    </tr>\n",
       "    <tr>\n",
       "      <th>DRUG OFFENSE</th>\n",
       "      <td>69.0</td>\n",
       "      <td>85038.623188</td>\n",
       "      <td>58.548648</td>\n",
       "      <td>85004.0</td>\n",
       "      <td>85015.00</td>\n",
       "      <td>85023.0</td>\n",
       "      <td>85043.00</td>\n",
       "      <td>85339.0</td>\n",
       "    </tr>\n",
       "    <tr>\n",
       "      <th>LARCENY-THEFT</th>\n",
       "      <td>477.0</td>\n",
       "      <td>85048.461216</td>\n",
       "      <td>73.401488</td>\n",
       "      <td>85003.0</td>\n",
       "      <td>85017.00</td>\n",
       "      <td>85031.0</td>\n",
       "      <td>85042.00</td>\n",
       "      <td>85353.0</td>\n",
       "    </tr>\n",
       "    <tr>\n",
       "      <th>MOTOR VEHICLE THEFT</th>\n",
       "      <td>135.0</td>\n",
       "      <td>85050.740741</td>\n",
       "      <td>82.852680</td>\n",
       "      <td>85003.0</td>\n",
       "      <td>85017.00</td>\n",
       "      <td>85031.0</td>\n",
       "      <td>85041.00</td>\n",
       "      <td>85353.0</td>\n",
       "    </tr>\n",
       "    <tr>\n",
       "      <th>MURDER AND NON-NEGLIGENT MANSLAUGHTER</th>\n",
       "      <td>1.0</td>\n",
       "      <td>85043.000000</td>\n",
       "      <td>NaN</td>\n",
       "      <td>85043.0</td>\n",
       "      <td>85043.00</td>\n",
       "      <td>85043.0</td>\n",
       "      <td>85043.00</td>\n",
       "      <td>85043.0</td>\n",
       "    </tr>\n",
       "    <tr>\n",
       "      <th>RAPE</th>\n",
       "      <td>21.0</td>\n",
       "      <td>85039.571429</td>\n",
       "      <td>62.777840</td>\n",
       "      <td>85006.0</td>\n",
       "      <td>85015.00</td>\n",
       "      <td>85032.0</td>\n",
       "      <td>85034.00</td>\n",
       "      <td>85308.0</td>\n",
       "    </tr>\n",
       "    <tr>\n",
       "      <th>ROBBERY</th>\n",
       "      <td>40.0</td>\n",
       "      <td>85028.775000</td>\n",
       "      <td>15.494395</td>\n",
       "      <td>85008.0</td>\n",
       "      <td>85016.75</td>\n",
       "      <td>85026.0</td>\n",
       "      <td>85041.00</td>\n",
       "      <td>85086.0</td>\n",
       "    </tr>\n",
       "  </tbody>\n",
       "</table>\n",
       "</div>"
      ],
      "text/plain": [
       "                                       count          mean        std  \\\n",
       "UCR CRIME CATEGORY                                                      \n",
       "AGGRAVATED ASSAULT                      61.0  85044.016393  80.707805   \n",
       "ARSON                                    2.0  85015.500000  10.606602   \n",
       "BURGLARY                               194.0  85056.056701  88.098166   \n",
       "DRUG OFFENSE                            69.0  85038.623188  58.548648   \n",
       "LARCENY-THEFT                          477.0  85048.461216  73.401488   \n",
       "MOTOR VEHICLE THEFT                    135.0  85050.740741  82.852680   \n",
       "MURDER AND NON-NEGLIGENT MANSLAUGHTER    1.0  85043.000000        NaN   \n",
       "RAPE                                    21.0  85039.571429  62.777840   \n",
       "ROBBERY                                 40.0  85028.775000  15.494395   \n",
       "\n",
       "                                           min       25%      50%       75%  \\\n",
       "UCR CRIME CATEGORY                                                            \n",
       "AGGRAVATED ASSAULT                     85003.0  85014.00  85022.0  85035.00   \n",
       "ARSON                                  85008.0  85011.75  85015.5  85019.25   \n",
       "BURGLARY                               85003.0  85015.25  85030.0  85042.00   \n",
       "DRUG OFFENSE                           85004.0  85015.00  85023.0  85043.00   \n",
       "LARCENY-THEFT                          85003.0  85017.00  85031.0  85042.00   \n",
       "MOTOR VEHICLE THEFT                    85003.0  85017.00  85031.0  85041.00   \n",
       "MURDER AND NON-NEGLIGENT MANSLAUGHTER  85043.0  85043.00  85043.0  85043.00   \n",
       "RAPE                                   85006.0  85015.00  85032.0  85034.00   \n",
       "ROBBERY                                85008.0  85016.75  85026.0  85041.00   \n",
       "\n",
       "                                           max  \n",
       "UCR CRIME CATEGORY                              \n",
       "AGGRAVATED ASSAULT                     85353.0  \n",
       "ARSON                                  85023.0  \n",
       "BURGLARY                               85353.0  \n",
       "DRUG OFFENSE                           85339.0  \n",
       "LARCENY-THEFT                          85353.0  \n",
       "MOTOR VEHICLE THEFT                    85353.0  \n",
       "MURDER AND NON-NEGLIGENT MANSLAUGHTER  85043.0  \n",
       "RAPE                                   85308.0  \n",
       "ROBBERY                                85086.0  "
      ]
     },
     "execution_count": 9,
     "metadata": {},
     "output_type": "execute_result"
    }
   ],
   "source": [
    "crime_cat.ZIP.describe()"
   ]
  },
  {
   "cell_type": "code",
   "execution_count": 10,
   "metadata": {
    "execution": {
     "iopub.execute_input": "2021-02-01T14:13:32.114702Z",
     "iopub.status.busy": "2021-02-01T14:13:32.114022Z",
     "iopub.status.idle": "2021-02-01T14:13:32.116893Z",
     "shell.execute_reply": "2021-02-01T14:13:32.117455Z"
    },
    "papermill": {
     "duration": 0.023296,
     "end_time": "2021-02-01T14:13:32.117625",
     "exception": false,
     "start_time": "2021-02-01T14:13:32.094329",
     "status": "completed"
    },
    "tags": []
   },
   "outputs": [],
   "source": [
    "import matplotlib as plot"
   ]
  },
  {
   "cell_type": "code",
   "execution_count": 11,
   "metadata": {
    "execution": {
     "iopub.execute_input": "2021-02-01T14:13:32.150607Z",
     "iopub.status.busy": "2021-02-01T14:13:32.149650Z",
     "iopub.status.idle": "2021-02-01T14:13:32.385142Z",
     "shell.execute_reply": "2021-02-01T14:13:32.384564Z"
    },
    "papermill": {
     "duration": 0.253281,
     "end_time": "2021-02-01T14:13:32.385294",
     "exception": false,
     "start_time": "2021-02-01T14:13:32.132013",
     "status": "completed"
    },
    "tags": []
   },
   "outputs": [
    {
     "data": {
      "text/plain": [
       "<AxesSubplot:xlabel='UCR CRIME CATEGORY'>"
      ]
     },
     "execution_count": 11,
     "metadata": {},
     "output_type": "execute_result"
    },
    {
     "data": {
      "image/png": "[encoded data removed]",
      "text/plain": [
       "<Figure size 432x288 with 1 Axes>"
      ]
     },
     "metadata": {
      "needs_background": "light"
     },
     "output_type": "display_data"
    }
   ],
   "source": [
    "crime_cat.ZIP.count().sort_values().plot.bar()"
   ]
  },
  {
   "cell_type": "code",
   "execution_count": 12,
   "metadata": {
    "execution": {
     "iopub.execute_input": "2021-02-01T14:13:32.422180Z",
     "iopub.status.busy": "2021-02-01T14:13:32.421359Z",
     "iopub.status.idle": "2021-02-01T14:13:32.432093Z",
     "shell.execute_reply": "2021-02-01T14:13:32.431474Z"
    },
    "papermill": {
     "duration": 0.031242,
     "end_time": "2021-02-01T14:13:32.432250",
     "exception": false,
     "start_time": "2021-02-01T14:13:32.401008",
     "status": "completed"
    },
    "tags": []
   },
   "outputs": [
    {
     "data": {
      "text/plain": [
       "UCR CRIME CATEGORY  ZIP  \n",
       "AGGRAVATED ASSAULT  85009    5\n",
       "                    85035    5\n",
       "                    85008    4\n",
       "                    85017    4\n",
       "                    85014    3\n",
       "                            ..\n",
       "ROBBERY             85029    1\n",
       "                    85032    1\n",
       "                    85035    1\n",
       "                    85040    1\n",
       "                    85086    1\n",
       "Name: ZIP, Length: 225, dtype: int64"
      ]
     },
     "execution_count": 12,
     "metadata": {},
     "output_type": "execute_result"
    }
   ],
   "source": [
    "crime_cat.ZIP.value_counts()"
   ]
  },
  {
   "cell_type": "code",
   "execution_count": 13,
   "metadata": {
    "execution": {
     "iopub.execute_input": "2021-02-01T14:13:32.492499Z",
     "iopub.status.busy": "2021-02-01T14:13:32.491765Z",
     "iopub.status.idle": "2021-02-01T14:13:37.261545Z",
     "shell.execute_reply": "2021-02-01T14:13:37.260890Z"
    },
    "papermill": {
     "duration": 4.813528,
     "end_time": "2021-02-01T14:13:37.261696",
     "exception": false,
     "start_time": "2021-02-01T14:13:32.448168",
     "status": "completed"
    },
    "tags": []
   },
   "outputs": [
    {
     "data": {
      "text/plain": [
       "<AxesSubplot:xlabel='UCR CRIME CATEGORY,ZIP'>"
      ]
     },
     "execution_count": 13,
     "metadata": {},
     "output_type": "execute_result"
    },
    {
     "data": {
      "image/png": "[encoded data removed]",
      "text/plain": [
       "<Figure size 432x288 with 1 Axes>"
      ]
     },
     "metadata": {
      "needs_background": "light"
     },
     "output_type": "display_data"
    }
   ],
   "source": [
    "crime_cat.ZIP.value_counts().plot.bar()"
   ]
  },
  {
   "cell_type": "markdown",
   "metadata": {
    "papermill": {
     "duration": 0.018167,
     "end_time": "2021-02-01T14:13:37.304881",
     "exception": false,
     "start_time": "2021-02-01T14:13:37.286714",
     "status": "completed"
    },
    "tags": []
   },
   "source": [
    "Can now look at Crime Category within each zip code and use that to isolate specific areas to focus specilized crime units, ie. focusing the OCU (Organized Crime Unit), in Zip Codes with higher rates of Drug Offences."
   ]
  },
  {
   "cell_type": "code",
   "execution_count": null,
   "metadata": {
    "papermill": {
     "duration": 0.017754,
     "end_time": "2021-02-01T14:13:37.340809",
     "exception": false,
     "start_time": "2021-02-01T14:13:37.323055",
     "status": "completed"
    },
    "tags": []
   },
   "outputs": [],
   "source": []
  }
 ],
 "metadata": {
  "kernelspec": {
   "display_name": "Python 3",
   "language": "python",
   "name": "python3"
  },
  "language_info": {
   "codemirror_mode": {
    "name": "ipython",
    "version": 3
   },
   "file_extension": ".py",
   "mimetype": "text/x-python",
   "name": "python",
   "nbconvert_exporter": "python",
   "pygments_lexer": "ipython3",
   "version": "3.7.9"
  },
  "papermill": {
   "default_parameters": {},
   "duration": 12.419134,
   "end_time": "2021-02-01T14:13:37.969688",
   "environment_variables": {},
   "exception": null,
   "input_path": "__notebook__.ipynb",
   "output_path": "__notebook__.ipynb",
   "parameters": {},
   "start_time": "2021-02-01T14:13:25.550554",
   "version": "2.2.2"
  }
 },
 "nbformat": 4,
 "nbformat_minor": 4
}
